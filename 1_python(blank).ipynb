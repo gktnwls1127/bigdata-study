{
  "nbformat": 4,
  "nbformat_minor": 0,
  "metadata": {
    "colab": {
      "provenance": [],
      "include_colab_link": true
    },
    "kernelspec": {
      "name": "python3",
      "display_name": "Python 3"
    },
    "language_info": {
      "name": "python"
    }
  },
  "cells": [
    {
      "cell_type": "markdown",
      "metadata": {
        "id": "view-in-github",
        "colab_type": "text"
      },
      "source": [
        "<a href=\"https://colab.research.google.com/github/gktnwls1127/bigdata-study/blob/main/1_python(blank).ipynb\" target=\"_parent\"><img src=\"https://colab.research.google.com/assets/colab-badge.svg\" alt=\"Open In Colab\"/></a>"
      ]
    },
    {
      "cell_type": "markdown",
      "metadata": {
        "id": "k2ulWwXXlIl8"
      },
      "source": [
        "# 파이썬(python)\n",
        "- 노트북 링크: bit.ly/3Fm2u3Q (Drive로 복사)\n",
        "- 실행: 실행 아이콘 또는 Shift + Enter"
      ]
    },
    {
      "cell_type": "markdown",
      "metadata": {
        "id": "bVEmheaVsfb-"
      },
      "source": [
        "# 데이터 분석을 위한 파이썬 기초1"
      ]
    },
    {
      "cell_type": "markdown",
      "metadata": {
        "id": "s8BrOHmkQtse"
      },
      "source": [
        "- 직접 타이핑 하면서 학습\n",
        "- 본인 속도에 맞게 동영상 속도 조절"
      ]
    },
    {
      "cell_type": "markdown",
      "metadata": {
        "id": "ZZo_KUGc2vcb"
      },
      "source": [
        "## 출력\n",
        "- print괄호 안에 숫자 또는 문자 (단 문자일 경우 ' 또는 \" 활용)"
      ]
    },
    {
      "cell_type": "code",
      "metadata": {
        "id": "LaqOXQChbEHz",
        "colab": {
          "base_uri": "https://localhost:8080/"
        },
        "outputId": "7fc16f42-845b-4ebd-ebbe-f2114d697da2"
      },
      "source": [
        "# 숫자\n",
        "print(2022)"
      ],
      "execution_count": null,
      "outputs": [
        {
          "output_type": "stream",
          "name": "stdout",
          "text": [
            "2022\n"
          ]
        }
      ]
    },
    {
      "cell_type": "code",
      "metadata": {
        "id": "ws_KrsY5215g",
        "colab": {
          "base_uri": "https://localhost:8080/"
        },
        "outputId": "16be7094-11c3-4e76-9ca9-432fa397989b"
      },
      "source": [
        "# 문자 (큰따옴표)\n",
        "print(\"happy\")"
      ],
      "execution_count": null,
      "outputs": [
        {
          "output_type": "stream",
          "name": "stdout",
          "text": [
            "happy\n"
          ]
        }
      ]
    },
    {
      "cell_type": "code",
      "metadata": {
        "id": "I72rwMzUl0ru",
        "colab": {
          "base_uri": "https://localhost:8080/"
        },
        "outputId": "64cbe299-4c15-445e-ae80-38ac7b89d40b"
      },
      "source": [
        "# 문자 (작은따옴표)\n",
        "print('happy')"
      ],
      "execution_count": null,
      "outputs": [
        {
          "output_type": "stream",
          "name": "stdout",
          "text": [
            "happy\n"
          ]
        }
      ]
    },
    {
      "cell_type": "markdown",
      "metadata": {
        "id": "Q7nGnhavkTta"
      },
      "source": [
        "## 주석\n",
        "- #을 앞에 사용하면 #뒤에 줄(내용)은 무시함"
      ]
    },
    {
      "cell_type": "code",
      "metadata": {
        "id": "azuDs-2YkTGj"
      },
      "source": [
        "# 주석입니다.\n",
        "# print(\"파이썬 공부 중\") # 출력문\n",
        "# print(\"파이썬은 쉽다\")"
      ],
      "execution_count": null,
      "outputs": []
    },
    {
      "cell_type": "markdown",
      "metadata": {
        "id": "qpEqrNy3k0WZ"
      },
      "source": [
        "- 한 줄만 주석 처리(해제) : Ctrl + / (맥 Command + /)\n",
        "- 여러 줄 주석 처리(해제) : 블록지정 후 Ctrl + / (맥 Command + /)"
      ]
    },
    {
      "cell_type": "markdown",
      "metadata": {
        "id": "rPXrOqw23eYk"
      },
      "source": [
        "## 산술연산자\n",
        "- +, -, *, /\n",
        "- //, %, **"
      ]
    },
    {
      "cell_type": "code",
      "metadata": {
        "id": "kL1pwn9g3gSM",
        "colab": {
          "base_uri": "https://localhost:8080/"
        },
        "outputId": "eb973721-6fe7-4b3c-b9bf-b401ae53c060"
      },
      "source": [
        "# 정수 + 정수\n",
        "print(1+2)"
      ],
      "execution_count": null,
      "outputs": [
        {
          "output_type": "stream",
          "name": "stdout",
          "text": [
            "3\n"
          ]
        }
      ]
    },
    {
      "cell_type": "code",
      "metadata": {
        "id": "o9T6KKrC3gVj",
        "colab": {
          "base_uri": "https://localhost:8080/"
        },
        "outputId": "a6e7d1b6-7dda-494b-d93b-c2d5f640974c"
      },
      "source": [
        "# 실수 + 정수\n",
        "print(3.44+5)"
      ],
      "execution_count": null,
      "outputs": [
        {
          "output_type": "stream",
          "name": "stdout",
          "text": [
            "8.44\n"
          ]
        }
      ]
    },
    {
      "cell_type": "code",
      "metadata": {
        "id": "QSZeZ8D-3gZQ",
        "colab": {
          "base_uri": "https://localhost:8080/"
        },
        "outputId": "9cee89ee-3527-45b1-e629-bfd33762a240"
      },
      "source": [
        "# 문자열 더하기(합친다)\n",
        "print(\"he\"+\"llo\")"
      ],
      "execution_count": null,
      "outputs": [
        {
          "output_type": "stream",
          "name": "stdout",
          "text": [
            "hello\n"
          ]
        }
      ]
    },
    {
      "cell_type": "code",
      "metadata": {
        "id": "aEqCTZCfs7zB",
        "colab": {
          "base_uri": "https://localhost:8080/"
        },
        "outputId": "010bc19c-63e8-4611-c40b-7a61047e177f"
      },
      "source": [
        "# 몫\n",
        "16//3"
      ],
      "execution_count": null,
      "outputs": [
        {
          "output_type": "execute_result",
          "data": {
            "text/plain": [
              "5"
            ]
          },
          "metadata": {},
          "execution_count": 8
        }
      ]
    },
    {
      "cell_type": "code",
      "metadata": {
        "id": "tLhgikIPs_g5",
        "colab": {
          "base_uri": "https://localhost:8080/"
        },
        "outputId": "e9783270-5e82-4aba-c2d4-c84ef45c3fbc"
      },
      "source": [
        "# 나머지\n",
        "16%3"
      ],
      "execution_count": null,
      "outputs": [
        {
          "output_type": "execute_result",
          "data": {
            "text/plain": [
              "1"
            ]
          },
          "metadata": {},
          "execution_count": 9
        }
      ]
    },
    {
      "cell_type": "code",
      "metadata": {
        "id": "ORtvddjetFxD",
        "colab": {
          "base_uri": "https://localhost:8080/"
        },
        "outputId": "0b80093a-8070-48d9-f9f1-50a296840e77"
      },
      "source": [
        "# 제곱\n",
        "4**2"
      ],
      "execution_count": null,
      "outputs": [
        {
          "output_type": "execute_result",
          "data": {
            "text/plain": [
              "16"
            ]
          },
          "metadata": {},
          "execution_count": 7
        }
      ]
    },
    {
      "cell_type": "markdown",
      "metadata": {
        "id": "MjEH32hddNoh"
      },
      "source": [
        "## 자료형(타입)\n",
        "- 정수형: int\n",
        "- 실수형: float\n",
        "- 문자열: str\n",
        "- 참/거짓: bool"
      ]
    },
    {
      "cell_type": "code",
      "metadata": {
        "id": "Xx1sQev5dOuO",
        "colab": {
          "base_uri": "https://localhost:8080/"
        },
        "outputId": "019fea5a-0f3d-4854-e7eb-904967c5861e"
      },
      "source": [
        "# 정수형\n",
        "type(1)"
      ],
      "execution_count": null,
      "outputs": [
        {
          "output_type": "execute_result",
          "data": {
            "text/plain": [
              "int"
            ]
          },
          "metadata": {},
          "execution_count": 10
        }
      ]
    },
    {
      "cell_type": "code",
      "metadata": {
        "id": "SBbgexcCdVUH",
        "colab": {
          "base_uri": "https://localhost:8080/"
        },
        "outputId": "e036b73e-af54-4429-a819-642daa046aa6"
      },
      "source": [
        "# 실수형\n",
        "type(1.1)"
      ],
      "execution_count": null,
      "outputs": [
        {
          "output_type": "execute_result",
          "data": {
            "text/plain": [
              "float"
            ]
          },
          "metadata": {},
          "execution_count": 11
        }
      ]
    },
    {
      "cell_type": "code",
      "metadata": {
        "id": "KdElWU6bdWj6",
        "colab": {
          "base_uri": "https://localhost:8080/"
        },
        "outputId": "ded388a5-f636-4550-ca8e-d630c2a8fc38"
      },
      "source": [
        "# 문자열\n",
        "type('hello')\n",
        "type('3')"
      ],
      "execution_count": null,
      "outputs": [
        {
          "output_type": "execute_result",
          "data": {
            "text/plain": [
              "str"
            ]
          },
          "metadata": {},
          "execution_count": 12
        }
      ]
    },
    {
      "cell_type": "code",
      "metadata": {
        "id": "aM8UgBYSmeEg",
        "colab": {
          "base_uri": "https://localhost:8080/"
        },
        "outputId": "a018f021-059e-42f4-b237-89f11133da8a"
      },
      "source": [
        "# 참/거짓\n",
        "type(True)\n",
        "type(False)"
      ],
      "execution_count": null,
      "outputs": [
        {
          "output_type": "execute_result",
          "data": {
            "text/plain": [
              "bool"
            ]
          },
          "metadata": {},
          "execution_count": 14
        }
      ]
    },
    {
      "cell_type": "markdown",
      "metadata": {
        "id": "F6_6KAM-31QN"
      },
      "source": [
        "## 변수"
      ]
    },
    {
      "cell_type": "code",
      "metadata": {
        "id": "6ouKLr5z334V"
      },
      "source": [
        "# box변수 값에 10 대입\n",
        "box = 10"
      ],
      "execution_count": null,
      "outputs": []
    },
    {
      "cell_type": "code",
      "metadata": {
        "id": "hnIbRIsv339m",
        "colab": {
          "base_uri": "https://localhost:8080/"
        },
        "outputId": "47ce3668-4843-43c9-df6d-c4e365735d29"
      },
      "source": [
        "# box변수 값 출력\n",
        "print(box)"
      ],
      "execution_count": null,
      "outputs": [
        {
          "output_type": "stream",
          "name": "stdout",
          "text": [
            "10\n"
          ]
        }
      ]
    },
    {
      "cell_type": "code",
      "metadata": {
        "id": "lqmZl6Bd34At"
      },
      "source": [
        "# box2변수 값에 20 대입\n",
        "box2 = 20"
      ],
      "execution_count": null,
      "outputs": []
    },
    {
      "cell_type": "code",
      "metadata": {
        "id": "KMUvATVm34Dw",
        "colab": {
          "base_uri": "https://localhost:8080/"
        },
        "outputId": "f9b74afb-ed98-477f-b562-410914c8f67b"
      },
      "source": [
        "# 변수(10) + 변수(20)\n",
        "print(box + box2)"
      ],
      "execution_count": null,
      "outputs": [
        {
          "output_type": "stream",
          "name": "stdout",
          "text": [
            "30\n"
          ]
        }
      ]
    },
    {
      "cell_type": "code",
      "metadata": {
        "id": "lFcDCOQT5P1A",
        "colab": {
          "base_uri": "https://localhost:8080/"
        },
        "outputId": "30b506d6-e3ea-48a4-9384-589b2a713139"
      },
      "source": [
        "# 30 = 10 + 20\n",
        "box3 = box + box2\n",
        "print(box3)"
      ],
      "execution_count": null,
      "outputs": [
        {
          "output_type": "stream",
          "name": "stdout",
          "text": [
            "30\n"
          ]
        }
      ]
    },
    {
      "cell_type": "code",
      "metadata": {
        "id": "UiCS5dfD9o8I",
        "colab": {
          "base_uri": "https://localhost:8080/"
        },
        "outputId": "f5c7f9b4-a9f5-417a-89b8-84475607b3f6"
      },
      "source": [
        "# 20 = 10 + 10\n",
        "box = box + box\n",
        "print(box)"
      ],
      "execution_count": null,
      "outputs": [
        {
          "output_type": "stream",
          "name": "stdout",
          "text": [
            "20\n"
          ]
        }
      ]
    },
    {
      "cell_type": "markdown",
      "metadata": {
        "id": "PW5uDK2z4uSS"
      },
      "source": [
        "##  형변환"
      ]
    },
    {
      "cell_type": "code",
      "metadata": {
        "id": "egzIOnas4wxd"
      },
      "source": [
        "# str(문자)\n",
        "box = '15'\n",
        "print(box)"
      ],
      "execution_count": null,
      "outputs": []
    },
    {
      "cell_type": "code",
      "metadata": {
        "id": "CPIKv_bFp3Yu",
        "colab": {
          "base_uri": "https://localhost:8080/"
        },
        "outputId": "fadd18ac-32af-464f-c550-662bdf013862"
      },
      "source": [
        "# str -> int(숫자)\n",
        "box = int(box) + 10\n",
        "type(box)"
      ],
      "execution_count": null,
      "outputs": [
        {
          "output_type": "execute_result",
          "data": {
            "text/plain": [
              "int"
            ]
          },
          "metadata": {},
          "execution_count": 21
        }
      ]
    },
    {
      "cell_type": "code",
      "metadata": {
        "id": "n17X9ikmqDn7",
        "colab": {
          "base_uri": "https://localhost:8080/"
        },
        "outputId": "6f2d20a2-4597-409e-aa75-28609fd686be"
      },
      "source": [
        "# type(str(box))\n",
        "box=\"60\"\n",
        "int(box)\n",
        "type(str(box))"
      ],
      "execution_count": null,
      "outputs": [
        {
          "output_type": "execute_result",
          "data": {
            "text/plain": [
              "str"
            ]
          },
          "metadata": {},
          "execution_count": 22
        }
      ]
    },
    {
      "cell_type": "markdown",
      "metadata": {
        "id": "_zM17gMJ5t5p"
      },
      "source": [
        "## 비교연산자"
      ]
    },
    {
      "cell_type": "code",
      "metadata": {
        "id": "fE2S36lStvaa",
        "colab": {
          "base_uri": "https://localhost:8080/"
        },
        "outputId": "2aaa2e35-8afa-4201-9d4a-4e560faa87ff"
      },
      "source": [
        "# 크다(참)\n",
        "10 > 5"
      ],
      "execution_count": null,
      "outputs": [
        {
          "output_type": "execute_result",
          "data": {
            "text/plain": [
              "True"
            ]
          },
          "metadata": {},
          "execution_count": 23
        }
      ]
    },
    {
      "cell_type": "code",
      "metadata": {
        "id": "tD-UPP7D5GYL",
        "colab": {
          "base_uri": "https://localhost:8080/"
        },
        "outputId": "aef5abaf-b745-4d47-dedc-6baebb97cfb9"
      },
      "source": [
        "# 작다\n",
        "10 < 5"
      ],
      "execution_count": null,
      "outputs": [
        {
          "output_type": "execute_result",
          "data": {
            "text/plain": [
              "False"
            ]
          },
          "metadata": {},
          "execution_count": 24
        }
      ]
    },
    {
      "cell_type": "code",
      "metadata": {
        "id": "rfrS5wNA5jig",
        "colab": {
          "base_uri": "https://localhost:8080/"
        },
        "outputId": "178c37a9-e703-4d30-e733-fa08936d635f"
      },
      "source": [
        "# 같거나 크다\n",
        "10 >= 5"
      ],
      "execution_count": null,
      "outputs": [
        {
          "output_type": "execute_result",
          "data": {
            "text/plain": [
              "True"
            ]
          },
          "metadata": {},
          "execution_count": 25
        }
      ]
    },
    {
      "cell_type": "code",
      "metadata": {
        "id": "lIUab7Mq5Ghf",
        "colab": {
          "base_uri": "https://localhost:8080/"
        },
        "outputId": "b6e3ee5f-444d-442e-d300-294ae5fa568c"
      },
      "source": [
        "# 같다\n",
        "10 == 10"
      ],
      "execution_count": null,
      "outputs": [
        {
          "output_type": "execute_result",
          "data": {
            "text/plain": [
              "True"
            ]
          },
          "metadata": {},
          "execution_count": 26
        }
      ]
    },
    {
      "cell_type": "code",
      "metadata": {
        "id": "_6kQowYCguce",
        "colab": {
          "base_uri": "https://localhost:8080/"
        },
        "outputId": "add406a1-3895-4a23-94c6-f36ca3f29886"
      },
      "source": [
        "# 같지 않다\n",
        "10 != 5"
      ],
      "execution_count": null,
      "outputs": [
        {
          "output_type": "execute_result",
          "data": {
            "text/plain": [
              "True"
            ]
          },
          "metadata": {},
          "execution_count": 27
        }
      ]
    },
    {
      "cell_type": "code",
      "metadata": {
        "id": "Ih3z-dslAF1Z",
        "colab": {
          "base_uri": "https://localhost:8080/"
        },
        "outputId": "95be9e7e-ec7d-4281-b6ce-9dc9bbcc3169"
      },
      "source": [
        "# 같다\n",
        "a = 10\n",
        "b = 10\n",
        "a == b\n"
      ],
      "execution_count": null,
      "outputs": [
        {
          "output_type": "execute_result",
          "data": {
            "text/plain": [
              "True"
            ]
          },
          "metadata": {},
          "execution_count": 28
        }
      ]
    },
    {
      "cell_type": "code",
      "metadata": {
        "id": "jUrfhIkmAF-K",
        "colab": {
          "base_uri": "https://localhost:8080/"
        },
        "outputId": "d1cde273-e847-4f9e-89bc-53831c254061"
      },
      "source": [
        "# 같거나 크다\n",
        "a >= b"
      ],
      "execution_count": null,
      "outputs": [
        {
          "output_type": "execute_result",
          "data": {
            "text/plain": [
              "True"
            ]
          },
          "metadata": {},
          "execution_count": 29
        }
      ]
    },
    {
      "cell_type": "code",
      "metadata": {
        "id": "9g11nbHVAGGx",
        "colab": {
          "base_uri": "https://localhost:8080/"
        },
        "outputId": "7205feb6-95d2-4116-9a58-cc0e523f0f92"
      },
      "source": [
        "# False\n",
        "a > b"
      ],
      "execution_count": null,
      "outputs": [
        {
          "output_type": "execute_result",
          "data": {
            "text/plain": [
              "False"
            ]
          },
          "metadata": {},
          "execution_count": 30
        }
      ]
    },
    {
      "cell_type": "code",
      "metadata": {
        "id": "3vb1GxkZUJDk",
        "colab": {
          "base_uri": "https://localhost:8080/"
        },
        "outputId": "9b61ad4a-a354-4707-bbe6-e83df95ee5a2"
      },
      "source": [
        "c = \"빅데이터\"\n",
        "d = \"빅데이터\"\n",
        "e = \"데이터\"\n",
        "print(c == d)\n",
        "print(d == e)\n"
      ],
      "execution_count": null,
      "outputs": [
        {
          "output_type": "stream",
          "name": "stdout",
          "text": [
            "True\n",
            "False\n"
          ]
        }
      ]
    },
    {
      "cell_type": "markdown",
      "metadata": {
        "id": "pz4G7EFCT3ow"
      },
      "source": [
        "## 조건문"
      ]
    },
    {
      "cell_type": "markdown",
      "metadata": {
        "id": "LQzrn00LhzhK"
      },
      "source": [
        "- 들여쓰기: tab\n",
        "- 내어쓰기: shift + tab"
      ]
    },
    {
      "cell_type": "code",
      "metadata": {
        "id": "MeetgWilCY_K",
        "colab": {
          "base_uri": "https://localhost:8080/"
        },
        "outputId": "27a2fe39-2aa3-4ac7-f28d-950686e48608"
      },
      "source": [
        "# True 조건\n",
        "if True:\n",
        "      print(\"참입니다.\")"
      ],
      "execution_count": null,
      "outputs": [
        {
          "output_type": "stream",
          "name": "stdout",
          "text": [
            "참입니다.\n"
          ]
        }
      ]
    },
    {
      "cell_type": "code",
      "metadata": {
        "id": "G2APl1mxDlJ_"
      },
      "source": [
        "# False 조건\n",
        "if False:\n",
        "      print(\"실행안됨\")"
      ],
      "execution_count": null,
      "outputs": []
    },
    {
      "cell_type": "code",
      "metadata": {
        "id": "kIu_ng9Kr_Z4"
      },
      "source": [
        "# box = 10\n",
        "box = 10\n",
        "if box < 5:\n",
        "  print(\"box가 크다\")"
      ],
      "execution_count": null,
      "outputs": []
    },
    {
      "cell_type": "code",
      "metadata": {
        "id": "4T30Y4NN5uD6",
        "colab": {
          "base_uri": "https://localhost:8080/"
        },
        "outputId": "7068ae4f-f4e4-4058-b5e9-6448537170cf"
      },
      "source": [
        "# box = 1\n",
        "box = 1\n",
        "\n",
        "if box == 10:\n",
        "  print(\"box는 10입니다.\")\n",
        "  print(\"box\")\n",
        "else:\n",
        "  print(\"box는 10이 아닙니다.\")"
      ],
      "execution_count": null,
      "outputs": [
        {
          "output_type": "stream",
          "name": "stdout",
          "text": [
            "box는 10이 아닙니다.\n"
          ]
        }
      ]
    },
    {
      "cell_type": "code",
      "metadata": {
        "id": "ivMOAhUe5uKF",
        "colab": {
          "base_uri": "https://localhost:8080/"
        },
        "outputId": "915b3262-cf72-4f9f-a57a-d8a060196337"
      },
      "source": [
        "# box = 5\n",
        "box = 5\n",
        "if box >= 10:\n",
        "  print(\"box는 10 이상입니다.\")\n",
        "else :\n",
        "  print(\"box는 10 미만입니다.\")"
      ],
      "execution_count": null,
      "outputs": [
        {
          "output_type": "stream",
          "name": "stdout",
          "text": [
            "box는 10 미만입니다.\n"
          ]
        }
      ]
    },
    {
      "cell_type": "code",
      "metadata": {
        "id": "WtZ_KIo5LHs1",
        "colab": {
          "base_uri": "https://localhost:8080/"
        },
        "outputId": "b06d5463-de44-47f7-ef49-89c98ed30c74"
      },
      "source": [
        "# box = 2\n",
        "box = 6\n",
        "\n",
        "if box >= 10:\n",
        "  print(\"box는 10 이상입니다.\")\n",
        "elif box < 10 and box >=5:\n",
        "  print(\"box는 5이상 10 미만입니다.\")\n",
        "else :\n",
        "  print(\"box는 5 미만입니다.\")"
      ],
      "execution_count": null,
      "outputs": [
        {
          "output_type": "stream",
          "name": "stdout",
          "text": [
            "box는 5이상 10 미만입니다.\n"
          ]
        }
      ]
    },
    {
      "cell_type": "code",
      "metadata": {
        "id": "XHZWWFTT5uNO",
        "colab": {
          "base_uri": "https://localhost:8080/"
        },
        "outputId": "ff1232aa-4766-4410-ff83-5c6a0fd872b1"
      },
      "source": [
        "# box = 2\n",
        "box = 2\n",
        "if box >=10:\n",
        "  print(\"box는 10 이상입니다.\")\n",
        "elif box < 10 and box >=5:\n",
        "  print(\"box는 5이상 10미만입니다.\")\n",
        "elif box < 4 and box >3:\n",
        "  print(\"box는 3이상 4미만입니다.\")\n",
        "else:\n",
        "  print(\"box는 2 이하입니다.\")"
      ],
      "execution_count": null,
      "outputs": [
        {
          "output_type": "stream",
          "name": "stdout",
          "text": [
            "box는 2 이하입니다.\n"
          ]
        }
      ]
    },
    {
      "cell_type": "markdown",
      "metadata": {
        "id": "p8g4MHmalw_S"
      },
      "source": [
        "# 데이터 분석을 위한 파이썬 기초2"
      ]
    },
    {
      "cell_type": "markdown",
      "metadata": {
        "id": "sn96Y4ue8eIh"
      },
      "source": [
        "## 리스트"
      ]
    },
    {
      "cell_type": "code",
      "metadata": {
        "id": "O_XKnj1DfKac"
      },
      "source": [
        "# 여러개의 값을 담을 때 여러개의 변수 사용?\n",
        "box1 = 4\n",
        "box2 = 2\n",
        "box3 = 10\n",
        "box4 = 6\n",
        "box5 = 8"
      ],
      "execution_count": null,
      "outputs": []
    },
    {
      "cell_type": "code",
      "metadata": {
        "id": "VZhB5Wyj5uQ9",
        "colab": {
          "base_uri": "https://localhost:8080/"
        },
        "outputId": "afa2538f-7d77-461c-8cb4-40c2475b65b3"
      },
      "source": [
        "# 리스트 변수\n",
        "listbox = [4, 2, 10 ,6, 8]\n",
        "print(listbox)"
      ],
      "execution_count": null,
      "outputs": [
        {
          "output_type": "stream",
          "name": "stdout",
          "text": [
            "[4, 2, 10, 6, 8]\n"
          ]
        }
      ]
    },
    {
      "cell_type": "code",
      "metadata": {
        "id": "yv3-b_gwOwjW",
        "colab": {
          "base_uri": "https://localhost:8080/"
        },
        "outputId": "65a12aa7-5eaa-4112-ed1b-ce47c970d090"
      },
      "source": [
        "# type\n",
        "type(listbox)"
      ],
      "execution_count": null,
      "outputs": [
        {
          "output_type": "execute_result",
          "data": {
            "text/plain": [
              "list"
            ]
          },
          "metadata": {},
          "execution_count": 40
        }
      ]
    },
    {
      "cell_type": "code",
      "metadata": {
        "id": "C6aj7SJl5uTh",
        "colab": {
          "base_uri": "https://localhost:8080/"
        },
        "outputId": "eea83ea3-cc89-46bb-b42a-63f41158b6de"
      },
      "source": [
        "# 문자열\n",
        "listbox = [\"네모\", \"세모\", \"동그라미\"]\n",
        "print(listbox)"
      ],
      "execution_count": null,
      "outputs": [
        {
          "output_type": "stream",
          "name": "stdout",
          "text": [
            "['네모', '세모', '동그라미']\n"
          ]
        }
      ]
    },
    {
      "cell_type": "code",
      "metadata": {
        "id": "ZZ3IhUFf-4wv",
        "colab": {
          "base_uri": "https://localhost:8080/"
        },
        "outputId": "4d5dfd7f-a0c5-4cd1-fa59-899ff2770aca"
      },
      "source": [
        "# 추가\n",
        "listbox.append('별')\n",
        "print(listbox)"
      ],
      "execution_count": null,
      "outputs": [
        {
          "output_type": "stream",
          "name": "stdout",
          "text": [
            "['네모', '세모', '동그라미', '별']\n"
          ]
        }
      ]
    },
    {
      "cell_type": "code",
      "metadata": {
        "id": "ZculDc6Td-_0",
        "colab": {
          "base_uri": "https://localhost:8080/"
        },
        "outputId": "a790c650-127b-49a4-9772-40bc5245a84c"
      },
      "source": [
        "# 정렬\n",
        "listbox = [4,2,10,6,8]\n",
        "listbox=['네모', '세모','동그라미']\n",
        "listbox.sort()\n",
        "listbox"
      ],
      "execution_count": null,
      "outputs": [
        {
          "output_type": "execute_result",
          "data": {
            "text/plain": [
              "['네모', '동그라미', '세모']"
            ]
          },
          "metadata": {},
          "execution_count": 43
        }
      ]
    },
    {
      "cell_type": "markdown",
      "metadata": {
        "id": "sMaNulq9AeuE"
      },
      "source": [
        "## 딕셔너리(Dictionary)"
      ]
    },
    {
      "cell_type": "code",
      "metadata": {
        "id": "lzuN0U8IAg_A",
        "colab": {
          "base_uri": "https://localhost:8080/"
        },
        "outputId": "52c23763-e01b-4f88-e8f1-b875fa9f87f7"
      },
      "source": [
        "# 딕셔너리\n",
        "dictbox ={'name':'네모', 'level':5}\n",
        "print(dictbox)"
      ],
      "execution_count": null,
      "outputs": [
        {
          "output_type": "stream",
          "name": "stdout",
          "text": [
            "{'name': '네모', 'level': 5}\n"
          ]
        }
      ]
    },
    {
      "cell_type": "code",
      "metadata": {
        "id": "W48Flt_fPzPl",
        "colab": {
          "base_uri": "https://localhost:8080/"
        },
        "outputId": "cb5cc277-d58d-49d3-9cdc-4d37794ae408"
      },
      "source": [
        "# type\n",
        "type(dictbox)"
      ],
      "execution_count": null,
      "outputs": [
        {
          "output_type": "execute_result",
          "data": {
            "text/plain": [
              "dict"
            ]
          },
          "metadata": {},
          "execution_count": 45
        }
      ]
    },
    {
      "cell_type": "code",
      "metadata": {
        "id": "0GHQkolTAhBz",
        "colab": {
          "base_uri": "https://localhost:8080/"
        },
        "outputId": "282140db-3549-4bb0-bb35-10e6785377f8"
      },
      "source": [
        "# 키(key)로 값 출력하기\n",
        "print(dictbox['name'])\n",
        "print(dictbox['level'])"
      ],
      "execution_count": null,
      "outputs": [
        {
          "output_type": "stream",
          "name": "stdout",
          "text": [
            "네모\n",
            "5\n"
          ]
        }
      ]
    },
    {
      "cell_type": "code",
      "metadata": {
        "id": "K2aPJAQEzqoW",
        "colab": {
          "base_uri": "https://localhost:8080/"
        },
        "outputId": "14f6e697-9239-4466-bce5-f7ca95f7de6f"
      },
      "source": [
        "# 값 변경하기\n",
        "dictbox['level'] = 6\n",
        "dictbox[\"level\"]"
      ],
      "execution_count": null,
      "outputs": [
        {
          "output_type": "execute_result",
          "data": {
            "text/plain": [
              "6"
            ]
          },
          "metadata": {},
          "execution_count": 47
        }
      ]
    },
    {
      "cell_type": "code",
      "metadata": {
        "id": "o0WZq19xzyyk",
        "colab": {
          "base_uri": "https://localhost:8080/"
        },
        "outputId": "478d6c7c-f40d-4aef-8ef9-3b6e4d0931d1"
      },
      "source": [
        "# 키 값\n",
        "dictbox.keys()"
      ],
      "execution_count": null,
      "outputs": [
        {
          "output_type": "execute_result",
          "data": {
            "text/plain": [
              "dict_keys(['name', 'level'])"
            ]
          },
          "metadata": {},
          "execution_count": 48
        }
      ]
    },
    {
      "cell_type": "code",
      "metadata": {
        "id": "Fo8xrNgmz4kX",
        "colab": {
          "base_uri": "https://localhost:8080/"
        },
        "outputId": "c407f48f-e231-4963-c251-9c63ddd72cfa"
      },
      "source": [
        "# 밸류 값\n",
        "dictbox.values()"
      ],
      "execution_count": null,
      "outputs": [
        {
          "output_type": "execute_result",
          "data": {
            "text/plain": [
              "dict_values(['네모', 6])"
            ]
          },
          "metadata": {},
          "execution_count": 49
        }
      ]
    },
    {
      "cell_type": "markdown",
      "metadata": {
        "id": "tHba7NxMsY-r"
      },
      "source": [
        "## 인덱싱과 슬라이싱"
      ]
    },
    {
      "cell_type": "code",
      "metadata": {
        "id": "X3jgCz-KXAHt",
        "colab": {
          "base_uri": "https://localhost:8080/"
        },
        "outputId": "7d6233ec-9c04-49db-f1b1-87f515530766"
      },
      "source": [
        "# listbox = [2,4,6,8,10]\n",
        "listbox = [2, 4, 6, 8, 10]\n",
        "\n",
        "print(listbox[3])"
      ],
      "execution_count": null,
      "outputs": [
        {
          "output_type": "stream",
          "name": "stdout",
          "text": [
            "8\n"
          ]
        }
      ]
    },
    {
      "cell_type": "code",
      "metadata": {
        "id": "lmi4cQp-memb",
        "colab": {
          "base_uri": "https://localhost:8080/"
        },
        "outputId": "a2457676-b77a-460c-e552-4add34ef69b5"
      },
      "source": [
        "# index 마지막 값\n",
        "print(listbox[-1])"
      ],
      "execution_count": null,
      "outputs": [
        {
          "output_type": "stream",
          "name": "stdout",
          "text": [
            "10\n"
          ]
        }
      ]
    },
    {
      "cell_type": "code",
      "metadata": {
        "id": "wrjMxzGosXZ-",
        "colab": {
          "base_uri": "https://localhost:8080/"
        },
        "outputId": "c488227f-bb06-4f52-c5bf-b6ad40766923"
      },
      "source": [
        "# list[start:stop]\n",
        "# index 0부터 2까지\n",
        "print(listbox[0:3])"
      ],
      "execution_count": null,
      "outputs": [
        {
          "output_type": "stream",
          "name": "stdout",
          "text": [
            "[2, 4, 6]\n"
          ]
        }
      ]
    },
    {
      "cell_type": "code",
      "metadata": {
        "id": "GFY0NdKSW5A-",
        "colab": {
          "base_uri": "https://localhost:8080/"
        },
        "outputId": "072fabf2-6952-4e89-ccbe-846b582d66f7"
      },
      "source": [
        "# index 3부터 끝까지\n",
        "print(listbox[3:])"
      ],
      "execution_count": null,
      "outputs": [
        {
          "output_type": "stream",
          "name": "stdout",
          "text": [
            "[8, 10]\n"
          ]
        }
      ]
    },
    {
      "cell_type": "code",
      "metadata": {
        "id": "-fnC4D-HW5E2",
        "colab": {
          "base_uri": "https://localhost:8080/"
        },
        "outputId": "e446ad5d-b595-49fb-9b8f-07266f6c7799"
      },
      "source": [
        "# index 1부터 2까지\n",
        "print(listbox[1:3])"
      ],
      "execution_count": null,
      "outputs": [
        {
          "output_type": "stream",
          "name": "stdout",
          "text": [
            "[4, 6]\n"
          ]
        }
      ]
    },
    {
      "cell_type": "code",
      "metadata": {
        "id": "3l7vc-WEmEjL",
        "colab": {
          "base_uri": "https://localhost:8080/"
        },
        "outputId": "c7cfde46-1b6d-4619-e646-2691b791ca9d"
      },
      "source": [
        "# list[start:stop:step]\n",
        "# index 처음부터 끝까지, 한칸 건너띄기\n",
        "print(listbox[::2])"
      ],
      "execution_count": null,
      "outputs": [
        {
          "output_type": "stream",
          "name": "stdout",
          "text": [
            "[2, 6, 10]\n"
          ]
        }
      ]
    },
    {
      "cell_type": "markdown",
      "metadata": {
        "id": "88qGNAwFU36g"
      },
      "source": [
        "## 내장 함수"
      ]
    },
    {
      "cell_type": "code",
      "metadata": {
        "id": "r4mkP9Q0VWay",
        "colab": {
          "base_uri": "https://localhost:8080/"
        },
        "outputId": "9ef8aedc-b29d-4b7d-d22f-cd7d23dd4027"
      },
      "source": [
        "# 합계\n",
        "listbox = [4, 2, 10 ,6,8]\n",
        "sum(listbox)"
      ],
      "execution_count": null,
      "outputs": [
        {
          "output_type": "execute_result",
          "data": {
            "text/plain": [
              "30"
            ]
          },
          "metadata": {},
          "execution_count": 56
        }
      ]
    },
    {
      "cell_type": "code",
      "metadata": {
        "id": "KesjV3w0U774",
        "colab": {
          "base_uri": "https://localhost:8080/"
        },
        "outputId": "b93368e4-d05f-4667-aa53-f3b3ce2d90b4"
      },
      "source": [
        "# 최대값\n",
        "max(listbox)"
      ],
      "execution_count": null,
      "outputs": [
        {
          "output_type": "execute_result",
          "data": {
            "text/plain": [
              "10"
            ]
          },
          "metadata": {},
          "execution_count": 57
        }
      ]
    },
    {
      "cell_type": "code",
      "metadata": {
        "id": "qlxoqmVrVmIi",
        "colab": {
          "base_uri": "https://localhost:8080/"
        },
        "outputId": "780f4c1b-dc30-4749-9f3d-0ac90b42ee59"
      },
      "source": [
        "# 최소값\n",
        "min(listbox)"
      ],
      "execution_count": null,
      "outputs": [
        {
          "output_type": "execute_result",
          "data": {
            "text/plain": [
              "2"
            ]
          },
          "metadata": {},
          "execution_count": 58
        }
      ]
    },
    {
      "cell_type": "code",
      "metadata": {
        "id": "nWOmvtLrVjvN",
        "colab": {
          "base_uri": "https://localhost:8080/"
        },
        "outputId": "29534fd0-5efe-4f81-9710-6b83d438c566"
      },
      "source": [
        "# 길이(갯수)\n",
        "len(listbox)"
      ],
      "execution_count": null,
      "outputs": [
        {
          "output_type": "execute_result",
          "data": {
            "text/plain": [
              "5"
            ]
          },
          "metadata": {},
          "execution_count": 59
        }
      ]
    },
    {
      "cell_type": "code",
      "metadata": {
        "id": "UfHaZY7Y1Cf8",
        "colab": {
          "base_uri": "https://localhost:8080/"
        },
        "outputId": "80e2fad8-7f24-4e28-8d6c-c7c6618222d2"
      },
      "source": [
        "# 반올림\n",
        "round(1.2345, 2)\n",
        "round(1.2375, 2)"
      ],
      "execution_count": null,
      "outputs": [
        {
          "output_type": "execute_result",
          "data": {
            "text/plain": [
              "1.24"
            ]
          },
          "metadata": {},
          "execution_count": 60
        }
      ]
    },
    {
      "cell_type": "markdown",
      "metadata": {
        "id": "60a8CfviXNzB"
      },
      "source": [
        "## 문자열"
      ]
    },
    {
      "cell_type": "markdown",
      "metadata": {
        "id": "GC88pkXCVtXW"
      },
      "source": [
        "### 문자열 변경"
      ]
    },
    {
      "cell_type": "code",
      "metadata": {
        "id": "4v6OZg0beGNn",
        "colab": {
          "base_uri": "https://localhost:8080/",
          "height": 35
        },
        "outputId": "80934d13-e11a-4f72-9954-4a4b4c7a99e0"
      },
      "source": [
        "# 한 단어 변경\n",
        "text = \"빅데이터 분석기사 파이썬 공부\"\n",
        "text = text.replace('공부', '스터디')\n",
        "text"
      ],
      "execution_count": null,
      "outputs": [
        {
          "output_type": "execute_result",
          "data": {
            "text/plain": [
              "'빅데이터 분석기사 파이썬 스터디'"
            ],
            "application/vnd.google.colaboratory.intrinsic+json": {
              "type": "string"
            }
          },
          "metadata": {},
          "execution_count": 61
        }
      ]
    },
    {
      "cell_type": "code",
      "metadata": {
        "id": "TWaRdm59euuw",
        "colab": {
          "base_uri": "https://localhost:8080/",
          "height": 35
        },
        "outputId": "8e0c0810-038d-4c6f-8a10-fca6950d7ae2"
      },
      "source": [
        "# 여러 단어 변경\n",
        "text = \"빅데이터 분석기사 파이썬 공부\"\n",
        "text = text.replace('공부', '스터디').replace('분석기사', '분석을 위한')\n",
        "text"
      ],
      "execution_count": null,
      "outputs": [
        {
          "output_type": "execute_result",
          "data": {
            "text/plain": [
              "'빅데이터 분석을 위한 파이썬 스터디'"
            ],
            "application/vnd.google.colaboratory.intrinsic+json": {
              "type": "string"
            }
          },
          "metadata": {},
          "execution_count": 62
        }
      ]
    },
    {
      "cell_type": "markdown",
      "metadata": {
        "id": "tJ4TMr1Zr3uk"
      },
      "source": [
        "### 문자열 슬라이싱"
      ]
    },
    {
      "cell_type": "code",
      "metadata": {
        "id": "i8nqO6HRr6Rp"
      },
      "source": [
        "text = \"안녕하세요 퇴근후딴짓입니다.\""
      ],
      "execution_count": null,
      "outputs": []
    },
    {
      "cell_type": "code",
      "metadata": {
        "id": "dNByNy7br6VV",
        "colab": {
          "base_uri": "https://localhost:8080/",
          "height": 35
        },
        "outputId": "841956e1-3fae-4571-c3db-09da9df5e047"
      },
      "source": [
        "# 문자열 슬라이싱\n",
        "text[:2]"
      ],
      "execution_count": null,
      "outputs": [
        {
          "output_type": "execute_result",
          "data": {
            "text/plain": [
              "'안녕'"
            ],
            "application/vnd.google.colaboratory.intrinsic+json": {
              "type": "string"
            }
          },
          "metadata": {},
          "execution_count": 64
        }
      ]
    },
    {
      "cell_type": "code",
      "metadata": {
        "id": "-Gn-Q-m2sOG7",
        "colab": {
          "base_uri": "https://localhost:8080/",
          "height": 35
        },
        "outputId": "5f0d8383-12bc-4d1f-98b3-f773a109b1d0"
      },
      "source": [
        "# 월-일\n",
        "# date = \"2022-12-25\"\n",
        "date = '2022-12-25'\n",
        "date[5:]"
      ],
      "execution_count": null,
      "outputs": [
        {
          "output_type": "execute_result",
          "data": {
            "text/plain": [
              "'12-25'"
            ],
            "application/vnd.google.colaboratory.intrinsic+json": {
              "type": "string"
            }
          },
          "metadata": {},
          "execution_count": 65
        }
      ]
    },
    {
      "cell_type": "markdown",
      "metadata": {
        "id": "O1QnE6ZaliuP"
      },
      "source": [
        "## 슬라이싱 연습"
      ]
    },
    {
      "cell_type": "code",
      "metadata": {
        "id": "XfmS7lTjsY-H",
        "colab": {
          "base_uri": "https://localhost:8080/",
          "height": 35
        },
        "outputId": "df7afd02-29f8-4c8d-91b9-0338d496ba24"
      },
      "source": [
        "# 월만 출력\n",
        "# date = \"2022-12-25\"\n",
        "date ='2022-12-25'\n",
        "date[5:7]"
      ],
      "execution_count": null,
      "outputs": [
        {
          "output_type": "execute_result",
          "data": {
            "text/plain": [
              "'12'"
            ],
            "application/vnd.google.colaboratory.intrinsic+json": {
              "type": "string"
            }
          },
          "metadata": {},
          "execution_count": 66
        }
      ]
    },
    {
      "cell_type": "code",
      "metadata": {
        "id": "veDH5XwYixWa",
        "colab": {
          "base_uri": "https://localhost:8080/"
        },
        "outputId": "8e0c2282-ff52-49d7-94f2-c9f83420ec7f"
      },
      "source": [
        "listbox = [\"감사\", \"행복\", \"사랑\", \"습관\", \"긍정\", \"변화\", \"성장\", \"공감\", \"희망\"]\n",
        "listbox"
      ],
      "execution_count": null,
      "outputs": [
        {
          "output_type": "execute_result",
          "data": {
            "text/plain": [
              "['감사', '행복', '사랑', '습관', '긍정', '변화', '성장', '공감', '희망']"
            ]
          },
          "metadata": {},
          "execution_count": 68
        }
      ]
    },
    {
      "cell_type": "code",
      "metadata": {
        "id": "rfSu6rBmyLy2",
        "colab": {
          "base_uri": "https://localhost:8080/"
        },
        "outputId": "a81be214-b994-45c3-ab18-2dc416df3fc1"
      },
      "source": [
        "# 갯 수\n",
        "len(listbox)"
      ],
      "execution_count": null,
      "outputs": [
        {
          "output_type": "execute_result",
          "data": {
            "text/plain": [
              "9"
            ]
          },
          "metadata": {},
          "execution_count": 69
        }
      ]
    },
    {
      "cell_type": "code",
      "metadata": {
        "id": "MnDYQUT9yL34",
        "colab": {
          "base_uri": "https://localhost:8080/",
          "height": 35
        },
        "outputId": "81fa94fc-ae0d-40f0-efce-49bf6df0ac16"
      },
      "source": [
        "# 첫번째 값\n",
        "listbox[0]"
      ],
      "execution_count": null,
      "outputs": [
        {
          "output_type": "execute_result",
          "data": {
            "text/plain": [
              "'감사'"
            ],
            "application/vnd.google.colaboratory.intrinsic+json": {
              "type": "string"
            }
          },
          "metadata": {},
          "execution_count": 70
        }
      ]
    },
    {
      "cell_type": "code",
      "metadata": {
        "id": "5rLvXDMRyL7P",
        "colab": {
          "base_uri": "https://localhost:8080/",
          "height": 35
        },
        "outputId": "fe69a5f8-b2ea-41e1-9ce8-63f839d80502"
      },
      "source": [
        "# 마지막 값\n",
        "listbox[-1]"
      ],
      "execution_count": null,
      "outputs": [
        {
          "output_type": "execute_result",
          "data": {
            "text/plain": [
              "'희망'"
            ],
            "application/vnd.google.colaboratory.intrinsic+json": {
              "type": "string"
            }
          },
          "metadata": {},
          "execution_count": 71
        }
      ]
    },
    {
      "cell_type": "code",
      "metadata": {
        "id": "rHQxUcJ5yL-H",
        "colab": {
          "base_uri": "https://localhost:8080/"
        },
        "outputId": "0d67a765-584e-423f-dbd5-8ec849c943a3"
      },
      "source": [
        "# 처음부터 세번째 값까지\n",
        "listbox[:3]"
      ],
      "execution_count": null,
      "outputs": [
        {
          "output_type": "execute_result",
          "data": {
            "text/plain": [
              "['감사', '행복', '사랑']"
            ]
          },
          "metadata": {},
          "execution_count": 72
        }
      ]
    },
    {
      "cell_type": "code",
      "metadata": {
        "id": "BagzzxLTyMAv",
        "colab": {
          "base_uri": "https://localhost:8080/"
        },
        "outputId": "74f199d2-8f9e-44b9-c457-4c8822c9176b"
      },
      "source": [
        "# 마지막 앞 단어\n",
        "# listbox[7:8]\n",
        "# listbox[7:-1]\n",
        "listbox[-2:-1]"
      ],
      "execution_count": null,
      "outputs": [
        {
          "output_type": "execute_result",
          "data": {
            "text/plain": [
              "['공감']"
            ]
          },
          "metadata": {},
          "execution_count": 73
        }
      ]
    },
    {
      "cell_type": "code",
      "metadata": {
        "id": "mvN74XUIyMDq",
        "colab": {
          "base_uri": "https://localhost:8080/"
        },
        "outputId": "f8444bc5-8c98-45e5-b731-46540105fd12"
      },
      "source": [
        "# 행복과 사랑만 출력\n",
        "listbox[1:3]\n"
      ],
      "execution_count": null,
      "outputs": [
        {
          "output_type": "execute_result",
          "data": {
            "text/plain": [
              "['행복', '사랑']"
            ]
          },
          "metadata": {},
          "execution_count": 74
        }
      ]
    },
    {
      "cell_type": "markdown",
      "metadata": {
        "id": "TO3l-lN_yMqM"
      },
      "source": [
        "### 풀이"
      ]
    },
    {
      "cell_type": "code",
      "metadata": {
        "id": "lPFvMHhVuGZ0"
      },
      "source": [
        "# 갯 수\n",
        "# len(listbox)"
      ],
      "execution_count": null,
      "outputs": []
    },
    {
      "cell_type": "code",
      "metadata": {
        "id": "xeDlrQnHuZu8"
      },
      "source": [
        "# 첫번째 값\n",
        "# listbox[0]"
      ],
      "execution_count": null,
      "outputs": []
    },
    {
      "cell_type": "code",
      "metadata": {
        "id": "X9ekhyU3vIng"
      },
      "source": [
        "# 마지막 값\n",
        "# listbox[-1]"
      ],
      "execution_count": null,
      "outputs": []
    },
    {
      "cell_type": "code",
      "metadata": {
        "id": "E77pYhgsuV4C"
      },
      "source": [
        "# 처음부터 세번째 값까지\n",
        "# listbox[:3]"
      ],
      "execution_count": null,
      "outputs": []
    },
    {
      "cell_type": "code",
      "metadata": {
        "id": "Lnr-3gUhuKhB"
      },
      "source": [
        "# 마지막 앞 단어\n",
        "# listbox[7:8]\n",
        "# listbox[7:-1]\n",
        "# listbox[-2:-1]"
      ],
      "execution_count": null,
      "outputs": []
    },
    {
      "cell_type": "code",
      "metadata": {
        "id": "C_P8l56RvQuB"
      },
      "source": [
        "# 행복과 사랑만 출력\n",
        "# listbox[1:3]"
      ],
      "execution_count": null,
      "outputs": []
    },
    {
      "cell_type": "markdown",
      "metadata": {
        "id": "bXgmN4vtiO03"
      },
      "source": [
        "# 자주 활용되는 파이썬 예제"
      ]
    },
    {
      "cell_type": "markdown",
      "metadata": {
        "id": "EXgwKIeQ9LSc"
      },
      "source": [
        "## 반복문"
      ]
    },
    {
      "cell_type": "code",
      "metadata": {
        "id": "xSa4BJrlC5gl",
        "colab": {
          "base_uri": "https://localhost:8080/"
        },
        "outputId": "5fb3090c-177a-4ec6-c444-9ded716fca50"
      },
      "source": [
        "# 0부터 4까지 반복 출력\n",
        "for item in range(5):\n",
        "    print(item)"
      ],
      "execution_count": null,
      "outputs": [
        {
          "output_type": "stream",
          "name": "stdout",
          "text": [
            "0\n",
            "1\n",
            "2\n",
            "3\n",
            "4\n"
          ]
        }
      ]
    },
    {
      "cell_type": "code",
      "metadata": {
        "id": "AYO-Jaunw92V",
        "colab": {
          "base_uri": "https://localhost:8080/"
        },
        "outputId": "3a56b7fc-339e-4fd9-a720-f69fb1b18ec6"
      },
      "source": [
        "# 5부터 9까지 반복 출력\n",
        "for i in range(5,10):\n",
        "    print(i)"
      ],
      "execution_count": null,
      "outputs": [
        {
          "output_type": "stream",
          "name": "stdout",
          "text": [
            "5\n",
            "6\n",
            "7\n",
            "8\n",
            "9\n"
          ]
        }
      ]
    },
    {
      "cell_type": "code",
      "metadata": {
        "id": "xOe8qt-G5uVv",
        "colab": {
          "base_uri": "https://localhost:8080/"
        },
        "outputId": "9c10b6a1-02c9-4ad5-d808-8fb5f59ba836"
      },
      "source": [
        "# 리스트에 있는 값, 반복문을 통해 출력\n",
        "listbox = [2,4,6,8,10]\n",
        "for item in listbox:\n",
        "    print(item)"
      ],
      "execution_count": null,
      "outputs": [
        {
          "output_type": "stream",
          "name": "stdout",
          "text": [
            "2\n",
            "4\n",
            "6\n",
            "8\n",
            "10\n"
          ]
        }
      ]
    },
    {
      "cell_type": "code",
      "metadata": {
        "id": "-e3ldxTl9fC2",
        "colab": {
          "base_uri": "https://localhost:8080/"
        },
        "outputId": "b3a71a34-4fc6-419c-b421-06746beca587"
      },
      "source": [
        "# 리스트에 있는 값 반복문을 통해 +1 한 값, 출력\n",
        "listbox = [2,4,6,8,10]\n",
        "for item in listbox:\n",
        "    # print(item + 1)\n",
        "    result = item + 1\n",
        "    print(result)"
      ],
      "execution_count": null,
      "outputs": [
        {
          "output_type": "stream",
          "name": "stdout",
          "text": [
            "3\n",
            "5\n",
            "7\n",
            "9\n",
            "11\n"
          ]
        }
      ]
    },
    {
      "cell_type": "code",
      "metadata": {
        "id": "8FfABDZt9QL2",
        "colab": {
          "base_uri": "https://localhost:8080/"
        },
        "outputId": "9fed6d6d-e329-4db4-c281-99cca0fdfbe7"
      },
      "source": [
        "# 리스트에 있는 문자열 출력\n",
        "listbox = ['네모','세모','동그라미']\n",
        "for i in listbox:\n",
        "    print(i)"
      ],
      "execution_count": null,
      "outputs": [
        {
          "output_type": "stream",
          "name": "stdout",
          "text": [
            "네모\n",
            "세모\n",
            "동그라미\n"
          ]
        }
      ]
    },
    {
      "cell_type": "code",
      "metadata": {
        "id": "HbAA3JX11HBu",
        "colab": {
          "base_uri": "https://localhost:8080/"
        },
        "outputId": "97bf040c-6dad-43aa-b6b2-27a4893343e1"
      },
      "source": [
        "# 리스트에 있는 문자열과 인덱스값 출력\n",
        "listbox = ['네모','세모','동그라미', '별']\n",
        "for index, item in enumerate(listbox):\n",
        "    print(index)\n",
        "    print(item)"
      ],
      "execution_count": null,
      "outputs": [
        {
          "output_type": "stream",
          "name": "stdout",
          "text": [
            "0\n",
            "네모\n",
            "1\n",
            "세모\n",
            "2\n",
            "동그라미\n",
            "3\n",
            "별\n"
          ]
        }
      ]
    },
    {
      "cell_type": "code",
      "metadata": {
        "id": "8dkdcNRI2tUu",
        "colab": {
          "base_uri": "https://localhost:8080/"
        },
        "outputId": "f78e3600-b1a7-4482-fde4-90012101f485"
      },
      "source": [
        "# Tip (print(f스트링))\n",
        "for index, item in enumerate(listbox):\n",
        "    print(f'인덱스{index}인 값은 {item}입니다.')"
      ],
      "execution_count": null,
      "outputs": [
        {
          "output_type": "stream",
          "name": "stdout",
          "text": [
            "인덱스0인 값은 네모입니다.\n",
            "인덱스1인 값은 세모입니다.\n",
            "인덱스2인 값은 동그라미입니다.\n",
            "인덱스3인 값은 별입니다.\n"
          ]
        }
      ]
    },
    {
      "cell_type": "markdown",
      "metadata": {
        "id": "bcxCI9tCvzAU"
      },
      "source": [
        "### Quiz"
      ]
    },
    {
      "cell_type": "code",
      "metadata": {
        "id": "FnDj6uJ7ixCz",
        "colab": {
          "base_uri": "https://localhost:8080/"
        },
        "outputId": "3b4a9652-ea83-4530-c928-910176537ce9"
      },
      "source": [
        "# 리스트에 있는 name, age, phone 컬럼명을 반복문을 통해 출력하시오\n",
        "cols = ['name', 'age', 'phone']\n",
        "for col in cols:\n",
        "    print(col)"
      ],
      "execution_count": null,
      "outputs": [
        {
          "output_type": "stream",
          "name": "stdout",
          "text": [
            "name\n",
            "age\n",
            "phone\n"
          ]
        }
      ]
    },
    {
      "cell_type": "markdown",
      "metadata": {
        "id": "j7bxnMRkCvee"
      },
      "source": [
        "## 함수"
      ]
    },
    {
      "cell_type": "markdown",
      "metadata": {
        "id": "xwknzPFZqLC9"
      },
      "source": [
        "### 기본함수"
      ]
    },
    {
      "cell_type": "code",
      "metadata": {
        "id": "v-5HTz-UoCrC"
      },
      "source": [
        "# 함수 정의\n",
        "def hello():\n",
        "    print(\"안녕하세요!\")"
      ],
      "execution_count": null,
      "outputs": []
    },
    {
      "cell_type": "code",
      "metadata": {
        "id": "XLcJacqLoOKV",
        "colab": {
          "base_uri": "https://localhost:8080/"
        },
        "outputId": "774757c3-c0eb-4532-f7d4-e92cc46d815f"
      },
      "source": [
        "# 함수 호출\n",
        "hello()"
      ],
      "execution_count": null,
      "outputs": [
        {
          "output_type": "stream",
          "name": "stdout",
          "text": [
            "안녕하세요!\n"
          ]
        }
      ]
    },
    {
      "cell_type": "markdown",
      "metadata": {
        "id": "m8UUcfokqNDe"
      },
      "source": [
        "### 함수(파라미터)"
      ]
    },
    {
      "cell_type": "code",
      "metadata": {
        "id": "T5ZMWdSLW0RD"
      },
      "source": [
        "# 함수 정의 (파라미터)\n",
        "def plus(x, y):\n",
        "    print(x+y)"
      ],
      "execution_count": null,
      "outputs": []
    },
    {
      "cell_type": "code",
      "metadata": {
        "id": "4bNKvl97Wx_N",
        "colab": {
          "base_uri": "https://localhost:8080/"
        },
        "outputId": "62a3457c-c854-4834-f108-6b811a642dc2"
      },
      "source": [
        "# 함수 호출\n",
        "a=2\n",
        "b=3\n",
        "plus(a,b)"
      ],
      "execution_count": null,
      "outputs": [
        {
          "output_type": "stream",
          "name": "stdout",
          "text": [
            "5\n"
          ]
        }
      ]
    },
    {
      "cell_type": "markdown",
      "metadata": {
        "id": "EmP4p9izqREt"
      },
      "source": [
        "### 함수(리턴 값)"
      ]
    },
    {
      "cell_type": "code",
      "metadata": {
        "id": "QbUnPQhtpYBN"
      },
      "source": [
        "# 함수 정의 (리턴 값)\n",
        "def plus(x, y):\n",
        "    result = x+y\n",
        "    return result"
      ],
      "execution_count": null,
      "outputs": []
    },
    {
      "cell_type": "code",
      "metadata": {
        "id": "WRli89l4pYK2",
        "colab": {
          "base_uri": "https://localhost:8080/"
        },
        "outputId": "bfdc6dea-8cad-4693-d1cc-2489a1f9b728"
      },
      "source": [
        "# 함수 호출\n",
        "a = plus(2,3)\n",
        "print(a)"
      ],
      "execution_count": null,
      "outputs": [
        {
          "output_type": "stream",
          "name": "stdout",
          "text": [
            "5\n"
          ]
        }
      ]
    },
    {
      "cell_type": "code",
      "metadata": {
        "id": "Mvx-fayoplXp"
      },
      "source": [
        "# 리턴 값 받기"
      ],
      "execution_count": null,
      "outputs": []
    },
    {
      "cell_type": "code",
      "metadata": {
        "id": "AcTLatFGwXV9",
        "colab": {
          "base_uri": "https://localhost:8080/"
        },
        "outputId": "a598f65c-23ff-45ed-bb88-daf874c824ab"
      },
      "source": [
        "# 리턴값이 2개 (최소, 최대값을 구하는 함수)\n",
        "listbox = [15, 46, 78, 24, 56]\n",
        "def min_max(data):\n",
        "    mi = min(data)\n",
        "    ma = max(data)\n",
        "    return mi, ma\n",
        "\n",
        "a, b = min_max(listbox)\n",
        "print(a,b)"
      ],
      "execution_count": null,
      "outputs": [
        {
          "output_type": "stream",
          "name": "stdout",
          "text": [
            "15 78\n"
          ]
        }
      ]
    },
    {
      "cell_type": "code",
      "metadata": {
        "id": "s0AfIdrZ5Vkg",
        "colab": {
          "base_uri": "https://localhost:8080/"
        },
        "outputId": "72176184-f619-43b3-a50c-629bc53dd58b"
      },
      "source": [
        "# 평균을 구하는 함수\n",
        "def mean(data):\n",
        "    return sum(data) / len(data)\n",
        "\n",
        "mean(listbox)\n"
      ],
      "execution_count": null,
      "outputs": [
        {
          "output_type": "execute_result",
          "data": {
            "text/plain": [
              "43.8"
            ]
          },
          "metadata": {},
          "execution_count": 90
        }
      ]
    },
    {
      "cell_type": "markdown",
      "metadata": {
        "id": "XoOMduOnwAGU"
      },
      "source": [
        "### Quiz"
      ]
    },
    {
      "cell_type": "code",
      "metadata": {
        "id": "jJD-lq6mwDfs",
        "colab": {
          "base_uri": "https://localhost:8080/"
        },
        "outputId": "77919af8-f427-4d71-b074-a0aee129d45e"
      },
      "source": [
        "# 주어진 리스트의 최대값 - 최소값을 구하는 함수를 만드시오\n",
        "# listbox = [15, 46, 78, 24, 56]\n",
        "def maxmin(data):\n",
        "    return max(data) - min(data)\n",
        "\n",
        "maxmin(listbox)"
      ],
      "execution_count": null,
      "outputs": [
        {
          "output_type": "execute_result",
          "data": {
            "text/plain": [
              "63"
            ]
          },
          "metadata": {},
          "execution_count": 91
        }
      ]
    },
    {
      "cell_type": "code",
      "metadata": {
        "id": "u33Z_1iyvNfw",
        "colab": {
          "base_uri": "https://localhost:8080/"
        },
        "outputId": "8f9ec156-16d8-4205-bba9-a1912dae1e9c"
      },
      "source": [
        "78-15"
      ],
      "execution_count": null,
      "outputs": [
        {
          "output_type": "execute_result",
          "data": {
            "text/plain": [
              "63"
            ]
          },
          "metadata": {},
          "execution_count": 92
        }
      ]
    }
  ]
}